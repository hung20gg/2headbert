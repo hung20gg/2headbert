{
 "cells": [
  {
   "cell_type": "code",
   "execution_count": null,
   "metadata": {},
   "outputs": [],
   "source": [
    "from dataloader import CreateDataset"
   ]
  },
  {
   "cell_type": "code",
   "execution_count": null,
   "metadata": {},
   "outputs": [],
   "source": []
  },
  {
   "cell_type": "code",
   "execution_count": null,
   "metadata": {},
   "outputs": [],
   "source": [
    "from bert3head.model import Linear3HEAD\n",
    "import torch\n",
    "\n",
    "model = Linear3HEAD(\"vinai/phobert-base-v2\")\n",
    "model.load_state_dict(torch.load('model/linear/3head-boosting2.pt'))\n",
    "model = model.cuda()"
   ]
  },
  {
   "cell_type": "code",
   "execution_count": null,
   "metadata": {},
   "outputs": [],
   "source": [
    "import numpy as np\n",
    "import pandas as pd\n",
    "df = pd.read_csv('label_gemini_vi_v2.csv')\n",
    "dataloader = CreateDataset(df['text'], df['sentiment'], df['classification'],\"vinai/phobert-base-v2\",64, shuffle=False).label()\n",
    "sentences = []\n",
    "sentiments = []\n",
    "classifications = []\n",
    "\n",
    "model.eval()\n",
    "with torch.no_grad():\n",
    "    for sentence, input_ids, attention_mask in dataloader:\n",
    "        sentences.extend(sentence)\n",
    "        input_ids = input_ids.cuda()\n",
    "        attention_mask = attention_mask.cuda()\n",
    "        \n",
    "        sen, clas = model(input_ids, attention_mask)\n",
    "        sen = sen.detach().cpu().numpy()\n",
    "        clas = clas.detach().cpu().numpy()\n",
    "        \n",
    "        sen = sen.argmax(axis=1).flatten()\n",
    "        clas = clas.argmax(axis=1).flatten()\n",
    "        \n",
    "        sentiments.extend(sen)\n",
    "        classifications.extend(clas)\n",
    "        \n",
    "sentences = np.array(sentences)\n",
    "sentiments = np.array(sentiments)\n",
    "classifications = np.array(classifications)\n",
    "new_df = pd.DataFrame({'text':sentences, 'sentiment':sentiments, 'classification':classifications})\n",
    "new_df.to_csv('label_gemini_vi_v2_linear3head.csv', index=False)"
   ]
  }
 ],
 "metadata": {
  "kernelspec": {
   "display_name": "Python 3",
   "language": "python",
   "name": "python3"
  },
  "language_info": {
   "name": "python",
   "version": "3.10.11"
  }
 },
 "nbformat": 4,
 "nbformat_minor": 2
}
