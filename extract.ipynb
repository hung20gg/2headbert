{
 "cells": [
  {
   "cell_type": "code",
   "execution_count": 1,
   "metadata": {},
   "outputs": [
    {
     "name": "stdout",
     "output_type": "stream",
     "text": [
      "cuda\n"
     ]
    }
   ],
   "source": [
    "from bert2head.model import BertCNN2HEAD, BertLinear2HEAD, BertCNN2HEAD_UIT\n",
    "import torch\n",
    "\n"
   ]
  },
  {
   "cell_type": "code",
   "execution_count": 2,
   "metadata": {},
   "outputs": [
    {
     "name": "stderr",
     "output_type": "stream",
     "text": [
      "Some weights of RobertaModel were not initialized from the model checkpoint at vinai/phobert-base-v2 and are newly initialized: ['roberta.pooler.dense.bias', 'roberta.pooler.dense.weight']\n",
      "You should probably TRAIN this model on a down-stream task to be able to use it for predictions and inference.\n"
     ]
    },
    {
     "data": {
      "text/plain": [
       "<All keys matched successfully>"
      ]
     },
     "execution_count": 2,
     "metadata": {},
     "output_type": "execute_result"
    }
   ],
   "source": [
    "net = BertLinear2HEAD('vinai/phobert-base-v2')\n",
    "net.load_state_dict(torch.load(\"models/linear/Best-bert-ever.pt\"))\n"
   ]
  },
  {
   "cell_type": "code",
   "execution_count": 3,
   "metadata": {},
   "outputs": [],
   "source": [
    "torch.save(net.BertModel.state_dict(),\"models/finetuneBertsmart.pt\")"
   ]
  },
  {
   "cell_type": "code",
   "execution_count": 4,
   "metadata": {},
   "outputs": [],
   "source": [
    "import torch\n",
    "s = torch.ones(32,6)"
   ]
  },
  {
   "cell_type": "code",
   "execution_count": 13,
   "metadata": {},
   "outputs": [],
   "source": [
    "import numpy as np"
   ]
  },
  {
   "cell_type": "code",
   "execution_count": 54,
   "metadata": {},
   "outputs": [
    {
     "data": {
      "text/plain": [
       "array([[ 4],\n",
       "       [ 4],\n",
       "       [18],\n",
       "       [ 2],\n",
       "       [ 4]])"
      ]
     },
     "execution_count": 54,
     "metadata": {},
     "output_type": "execute_result"
    }
   ],
   "source": [
    "a = np.array([32,14,67,3,6]).reshape(-1,1)\n",
    "\n",
    "np.random.randint(0,a)"
   ]
  },
  {
   "cell_type": "code",
   "execution_count": 55,
   "metadata": {},
   "outputs": [],
   "source": [
    "a=[torch.Tensor([4,3]),torch.Tensor([30,50])]\n",
    "b=torch.cat(a).view(2,2)"
   ]
  },
  {
   "cell_type": "code",
   "execution_count": 56,
   "metadata": {},
   "outputs": [],
   "source": [
    "b[b !=3] =1"
   ]
  },
  {
   "cell_type": "code",
   "execution_count": 57,
   "metadata": {},
   "outputs": [
    {
     "data": {
      "text/plain": [
       "tensor([[1., 3.],\n",
       "        [1., 1.]])"
      ]
     },
     "execution_count": 57,
     "metadata": {},
     "output_type": "execute_result"
    }
   ],
   "source": [
    "b"
   ]
  },
  {
   "cell_type": "code",
   "execution_count": 40,
   "metadata": {},
   "outputs": [
    {
     "data": {
      "text/plain": [
       "tensor([[0],\n",
       "        [0]], dtype=torch.int32)"
      ]
     },
     "execution_count": 40,
     "metadata": {},
     "output_type": "execute_result"
    }
   ],
   "source": [
    "c=torch.Tensor([0,0]).type(torch.IntTensor).reshape(-1,1)\n",
    "c"
   ]
  },
  {
   "cell_type": "code",
   "execution_count": 44,
   "metadata": {},
   "outputs": [],
   "source": [
    "b[torch.arange(2)[:,None],c]=1"
   ]
  },
  {
   "cell_type": "code",
   "execution_count": 45,
   "metadata": {},
   "outputs": [
    {
     "data": {
      "text/plain": [
       "tensor([[ 1.,  3.],\n",
       "        [ 1., 50.]])"
      ]
     },
     "execution_count": 45,
     "metadata": {},
     "output_type": "execute_result"
    }
   ],
   "source": [
    "b"
   ]
  },
  {
   "cell_type": "code",
   "execution_count": 7,
   "metadata": {},
   "outputs": [
    {
     "name": "stdout",
     "output_type": "stream",
     "text": [
      "Original sequence: tensor([1., 2., 3., 4., 5., 6., 7., 1., 2., 3., 4., 5., 6., 7.])\n",
      "Masked sequence: tensor([-100., -100.,    3.,    4.,    5.,    6.,    7.,    1.,    2.,    3.,\n",
      "           4.,    5.,    6.,    7.])\n"
     ]
    }
   ],
   "source": [
    "import torch\n",
    "\n",
    "# Your sequence with 4 tokens\n",
    "my_sequence = torch.Tensor([1,2,3,4,5,6,7,1,2,3,4,5,6,7])\n",
    "print(\"Original sequence:\", my_sequence)\n",
    "# Choose a masking percentage based on the length of the sequence\n",
    "masking_percentage = 0.15\n",
    "\n",
    "# Determine the number of elements to select for masking\n",
    "num_elements_to_mask = max(1, int(len(my_sequence) * masking_percentage))\n",
    "\n",
    "# Randomly select elements for masking\n",
    "masked_indices = torch.randint(0, len(my_sequence), size=(num_elements_to_mask,), dtype=torch.long)\n",
    "\n",
    "# Create a mask for the selected indices\n",
    "mask = torch.zeros(len(my_sequence))\n",
    "mask[masked_indices] = 1\n",
    "mask = mask.type(torch.IntTensor)\n",
    "# Apply the mask to the sequence\n",
    "#masked_sequence = [token if mask[i].item() == 0 else \"[MASK]\" for i, token in enumerate(my_sequence)]\n",
    "my_sequence[mask]=-100\n",
    "\n",
    "print(\"Masked sequence:\", my_sequence)"
   ]
  },
  {
   "cell_type": "code",
   "execution_count": 27,
   "metadata": {},
   "outputs": [],
   "source": [
    "masked_indices = torch.randint(0, 10, size=(2,), dtype=torch.long)"
   ]
  },
  {
   "cell_type": "code",
   "execution_count": 8,
   "metadata": {},
   "outputs": [],
   "source": [
    "import   copy"
   ]
  },
  {
   "cell_type": "code",
   "execution_count": 9,
   "metadata": {},
   "outputs": [],
   "source": [
    "\n",
    "def random_label(input_ids: torch.Tensor,attention_mask: torch.Tensor, mlm_prob = 0.3):\n",
    "      mlm_inputs = []\n",
    "      labels =[]\n",
    "      \n",
    "      for input_id, att in zip(input_ids,attention_mask):\n",
    "        mlm_input = input_id.clone()\n",
    "        max_pos  = int(torch.sum(att))\n",
    "        \n",
    "        num_mask = int(max_pos * mlm_prob) \n",
    "              \n",
    "        mask_pos = torch.randint(0, max_pos, size=(num_mask,), dtype=torch.int32)\n",
    "        \n",
    "        mask = torch.zeros(len(mlm_input))\n",
    "        mask[mask_pos] = 1\n",
    "        \n",
    "        \n",
    "        mask = mask.type(torch.bool)\n",
    "        \n",
    "        mlm_input[mask] = 64000\n",
    "    \n",
    "        label = copy.deepcopy(input_id)\n",
    "        label[mlm_input != 64000]=-100\n",
    "        \n",
    "        lucky_mask = torch.randint(1,11,size = (num_mask,), dtype=torch.int32)\n",
    "        for i,lucky in enumerate(lucky_mask):\n",
    "          if int(lucky)%8==0: # 10%\n",
    "            mlm_input[mask_pos[i]] = input_id[mask_pos[i]]\n",
    "          elif int(lucky)%7==0: # 10%\n",
    "            mlm_input[mask_pos[i]] = torch.randint(0,64000,size=(1,))[0]\n",
    "        \n",
    "        \n",
    "        mlm_inputs.append(mlm_input.reshape(1,-1))\n",
    "        labels.append(label.reshape(1,-1))\n",
    "\n",
    "      mlm_inputs = torch.cat(mlm_inputs,dim=0)\n",
    "      labels = torch.cat(labels,dim=0)\n",
    "      return mlm_inputs, labels\n",
    "      "
   ]
  },
  {
   "cell_type": "code",
   "execution_count": 1,
   "metadata": {},
   "outputs": [],
   "source": [
    "from transformers import AutoTokenizer, AutoModelForMaskedLM"
   ]
  },
  {
   "cell_type": "code",
   "execution_count": 2,
   "metadata": {},
   "outputs": [],
   "source": [
    "tokenizer = AutoTokenizer.from_pretrained('vinai/phobert-base-v2')\n",
    "model = AutoModelForMaskedLM.from_pretrained('vinai/phobert-base-v2')"
   ]
  },
  {
   "cell_type": "code",
   "execution_count": 55,
   "metadata": {},
   "outputs": [
    {
     "data": {
      "text/plain": [
       "{'input_ids': tensor([[    0, 45382,     2]]), 'token_type_ids': tensor([[0, 0, 0]]), 'attention_mask': tensor([[1, 1, 1]])}"
      ]
     },
     "execution_count": 55,
     "metadata": {},
     "output_type": "execute_result"
    }
   ],
   "source": [
    "inp = tokenizer('50.000.000',return_tensors='pt', padding=True,truncation=True, max_length=64)\n",
    "inp"
   ]
  },
  {
   "cell_type": "code",
   "execution_count": 53,
   "metadata": {},
   "outputs": [],
   "source": [
    "import torch"
   ]
  },
  {
   "cell_type": "code",
   "execution_count": 56,
   "metadata": {},
   "outputs": [
    {
     "data": {
      "text/plain": [
       "['<s>', '50.000.000', '</s>']"
      ]
     },
     "execution_count": 56,
     "metadata": {},
     "output_type": "execute_result"
    }
   ],
   "source": [
    "tokenizer.convert_ids_to_tokens(inp['input_ids'][0])"
   ]
  },
  {
   "cell_type": "code",
   "execution_count": 16,
   "metadata": {},
   "outputs": [
    {
     "ename": "NameError",
     "evalue": "name 'random_label' is not defined",
     "output_type": "error",
     "traceback": [
      "\u001b[1;31m---------------------------------------------------------------------------\u001b[0m",
      "\u001b[1;31mNameError\u001b[0m                                 Traceback (most recent call last)",
      "Cell \u001b[1;32mIn[16], line 1\u001b[0m\n\u001b[1;32m----> 1\u001b[0m mlm_in, mlm_lb \u001b[38;5;241m=\u001b[39m \u001b[43mrandom_label\u001b[49m(inp[\u001b[38;5;124m'\u001b[39m\u001b[38;5;124minput_ids\u001b[39m\u001b[38;5;124m'\u001b[39m],inp[\u001b[38;5;124m'\u001b[39m\u001b[38;5;124mattention_mask\u001b[39m\u001b[38;5;124m'\u001b[39m])\n",
      "\u001b[1;31mNameError\u001b[0m: name 'random_label' is not defined"
     ]
    }
   ],
   "source": [
    "mlm_in, mlm_lb = random_label(inp['input_ids'],inp['attention_mask'])"
   ]
  },
  {
   "cell_type": "code",
   "execution_count": 14,
   "metadata": {},
   "outputs": [],
   "source": [
    "out = model(input_ids=mlm_in,attention_mask=inp['attention_mask'])"
   ]
  },
  {
   "cell_type": "code",
   "execution_count": 17,
   "metadata": {},
   "outputs": [],
   "source": [
    "def label_for_mlm(result, mlm_labels):\n",
    "    y_pred=[]\n",
    "    labels=[]\n",
    "    for i in range(result.shape[0]):\n",
    "        tmp_res = torch.zeros(result.shape[1])\n",
    "        tmp_res[mlm_labels[i]!=-100] =1\n",
    "        \n",
    "        for j in range(result.shape[1]):\n",
    "            if tmp_res[j]==1:\n",
    "                lb = mlm_labels[i,j]\n",
    "                pred = out['logits'][i][j]\n",
    "                y_pred.append(pred.reshape(1,-1))\n",
    "                labels.append(lb)\n",
    "\n",
    "    labels= torch.Tensor(labels).type(torch.LongTensor)\n",
    "    y_pred = torch.cat(y_pred,dim=0)  \n",
    "    \n",
    "    return y_pred, labels"
   ]
  },
  {
   "cell_type": "code",
   "execution_count": 18,
   "metadata": {},
   "outputs": [],
   "source": [
    "y_pred,labels = label_for_mlm(out['logits'],mlm_lb)"
   ]
  },
  {
   "cell_type": "code",
   "execution_count": 19,
   "metadata": {},
   "outputs": [],
   "source": [
    "import torch.nn.functional as F\n",
    "loss2 = F.cross_entropy(y_pred, labels)"
   ]
  },
  {
   "cell_type": "code",
   "execution_count": 20,
   "metadata": {},
   "outputs": [
    {
     "data": {
      "text/plain": [
       "tensor(3.8681, grad_fn=<NllLossBackward0>)"
      ]
     },
     "execution_count": 20,
     "metadata": {},
     "output_type": "execute_result"
    }
   ],
   "source": [
    "loss2"
   ]
  },
  {
   "cell_type": "code",
   "execution_count": 42,
   "metadata": {},
   "outputs": [],
   "source": [
    "import pandas as pd\n",
    "df = pd.read_csv('dataset/MLMdata.csv')"
   ]
  },
  {
   "cell_type": "code",
   "execution_count": 43,
   "metadata": {},
   "outputs": [
    {
     "data": {
      "text/html": [
       "<div>\n",
       "<style scoped>\n",
       "    .dataframe tbody tr th:only-of-type {\n",
       "        vertical-align: middle;\n",
       "    }\n",
       "\n",
       "    .dataframe tbody tr th {\n",
       "        vertical-align: top;\n",
       "    }\n",
       "\n",
       "    .dataframe thead th {\n",
       "        text-align: right;\n",
       "    }\n",
       "</style>\n",
       "<table border=\"1\" class=\"dataframe\">\n",
       "  <thead>\n",
       "    <tr style=\"text-align: right;\">\n",
       "      <th></th>\n",
       "      <th>Unnamed: 0</th>\n",
       "      <th>text</th>\n",
       "    </tr>\n",
       "  </thead>\n",
       "  <tbody>\n",
       "    <tr>\n",
       "      <th>0</th>\n",
       "      <td>0</td>\n",
       "      <td>vòng kết đến .</td>\n",
       "    </tr>\n",
       "    <tr>\n",
       "      <th>1</th>\n",
       "      <td>1</td>\n",
       "      <td>khí lớp_học vui_vẻ thoải_mái .</td>\n",
       "    </tr>\n",
       "    <tr>\n",
       "      <th>2</th>\n",
       "      <td>2</td>\n",
       "      <td>hướng học kinh_tế vi_mô photo .</td>\n",
       "    </tr>\n",
       "    <tr>\n",
       "      <th>3</th>\n",
       "      <td>3</td>\n",
       "      <td>in sẵn banner luôn .</td>\n",
       "    </tr>\n",
       "    <tr>\n",
       "      <th>4</th>\n",
       "      <td>4</td>\n",
       "      <td>inbox mua het nhe ban .</td>\n",
       "    </tr>\n",
       "    <tr>\n",
       "      <th>...</th>\n",
       "      <td>...</td>\n",
       "      <td>...</td>\n",
       "    </tr>\n",
       "    <tr>\n",
       "      <th>30030</th>\n",
       "      <td>30030</td>\n",
       "      <td>hào thành_viên cụm truyền_thông kiện hội sinh_...</td>\n",
       "    </tr>\n",
       "    <tr>\n",
       "      <th>30031</th>\n",
       "      <td>30031</td>\n",
       "      <td>giảng_viên giảng ví_dụ minh_họa giúp sinh_viên...</td>\n",
       "    </tr>\n",
       "    <tr>\n",
       "      <th>30032</th>\n",
       "      <td>30032</td>\n",
       "      <td>hai vai_trò thầy wzjwz môn wzjwz kỹ_thuật ngôn...</td>\n",
       "    </tr>\n",
       "    <tr>\n",
       "      <th>30033</th>\n",
       "      <td>30033</td>\n",
       "      <td>chương_trình tân_sinh_viên làn_sóng đột_phá nă...</td>\n",
       "    </tr>\n",
       "    <tr>\n",
       "      <th>30034</th>\n",
       "      <td>30034</td>\n",
       "      <td>ban múa câu lạc_bộ âm_nhạc mec thức thông_báo ...</td>\n",
       "    </tr>\n",
       "  </tbody>\n",
       "</table>\n",
       "<p>30035 rows × 2 columns</p>\n",
       "</div>"
      ],
      "text/plain": [
       "       Unnamed: 0                                               text\n",
       "0               0                                     vòng kết đến .\n",
       "1               1                     khí lớp_học vui_vẻ thoải_mái .\n",
       "2               2                    hướng học kinh_tế vi_mô photo .\n",
       "3               3                               in sẵn banner luôn .\n",
       "4               4                            inbox mua het nhe ban .\n",
       "...           ...                                                ...\n",
       "30030       30030  hào thành_viên cụm truyền_thông kiện hội sinh_...\n",
       "30031       30031  giảng_viên giảng ví_dụ minh_họa giúp sinh_viên...\n",
       "30032       30032  hai vai_trò thầy wzjwz môn wzjwz kỹ_thuật ngôn...\n",
       "30033       30033  chương_trình tân_sinh_viên làn_sóng đột_phá nă...\n",
       "30034       30034  ban múa câu lạc_bộ âm_nhạc mec thức thông_báo ...\n",
       "\n",
       "[30035 rows x 2 columns]"
      ]
     },
     "execution_count": 43,
     "metadata": {},
     "output_type": "execute_result"
    }
   ],
   "source": [
    "df"
   ]
  },
  {
   "cell_type": "code",
   "execution_count": 44,
   "metadata": {},
   "outputs": [],
   "source": [
    "test = pd.read_csv('dataset/Test/test2.csv')"
   ]
  },
  {
   "cell_type": "code",
   "execution_count": 45,
   "metadata": {},
   "outputs": [
    {
     "data": {
      "text/html": [
       "<div>\n",
       "<style scoped>\n",
       "    .dataframe tbody tr th:only-of-type {\n",
       "        vertical-align: middle;\n",
       "    }\n",
       "\n",
       "    .dataframe tbody tr th {\n",
       "        vertical-align: top;\n",
       "    }\n",
       "\n",
       "    .dataframe thead th {\n",
       "        text-align: right;\n",
       "    }\n",
       "</style>\n",
       "<table border=\"1\" class=\"dataframe\">\n",
       "  <thead>\n",
       "    <tr style=\"text-align: right;\">\n",
       "      <th></th>\n",
       "      <th>Unnamed: 0</th>\n",
       "      <th>text</th>\n",
       "      <th>label_x</th>\n",
       "      <th>label_y</th>\n",
       "    </tr>\n",
       "  </thead>\n",
       "  <tbody>\n",
       "    <tr>\n",
       "      <th>0</th>\n",
       "      <td>0</td>\n",
       "      <td>chúc các bạn luôn thành_công và thành_đạt trên...</td>\n",
       "      <td>1</td>\n",
       "      <td>7</td>\n",
       "    </tr>\n",
       "    <tr>\n",
       "      <th>1</th>\n",
       "      <td>1</td>\n",
       "      <td>tuyệt_vời quá đi .</td>\n",
       "      <td>1</td>\n",
       "      <td>3</td>\n",
       "    </tr>\n",
       "    <tr>\n",
       "      <th>2</th>\n",
       "      <td>2</td>\n",
       "      <td>theo các chuyên_gia của đại_học kinh_tế quốc d...</td>\n",
       "      <td>0</td>\n",
       "      <td>7</td>\n",
       "    </tr>\n",
       "    <tr>\n",
       "      <th>3</th>\n",
       "      <td>3</td>\n",
       "      <td>chúc con luôn đạt nhiều ngoạn_mục trên con đườ...</td>\n",
       "      <td>1</td>\n",
       "      <td>6</td>\n",
       "    </tr>\n",
       "    <tr>\n",
       "      <th>4</th>\n",
       "      <td>4</td>\n",
       "      <td>trường tâm_lý .</td>\n",
       "      <td>1</td>\n",
       "      <td>4</td>\n",
       "    </tr>\n",
       "    <tr>\n",
       "      <th>...</th>\n",
       "      <td>...</td>\n",
       "      <td>...</td>\n",
       "      <td>...</td>\n",
       "      <td>...</td>\n",
       "    </tr>\n",
       "    <tr>\n",
       "      <th>2775</th>\n",
       "      <td>2780</td>\n",
       "      <td>giảng_viên chỉ cho đồ_án và giải_đáp các yêu_c...</td>\n",
       "      <td>2</td>\n",
       "      <td>2</td>\n",
       "    </tr>\n",
       "    <tr>\n",
       "      <th>2776</th>\n",
       "      <td>2781</td>\n",
       "      <td>cô nên dạy nội_dung khó hơn cho lớp sau .</td>\n",
       "      <td>2</td>\n",
       "      <td>2</td>\n",
       "    </tr>\n",
       "    <tr>\n",
       "      <th>2777</th>\n",
       "      <td>2782</td>\n",
       "      <td>em chưa ạ .</td>\n",
       "      <td>2</td>\n",
       "      <td>3</td>\n",
       "    </tr>\n",
       "    <tr>\n",
       "      <th>2778</th>\n",
       "      <td>2783</td>\n",
       "      <td>thấy cao lắm hích hích .</td>\n",
       "      <td>0</td>\n",
       "      <td>3</td>\n",
       "    </tr>\n",
       "    <tr>\n",
       "      <th>2779</th>\n",
       "      <td>2784</td>\n",
       "      <td>liên_hệ thực_tiễn tương_đối tốt .</td>\n",
       "      <td>1</td>\n",
       "      <td>2</td>\n",
       "    </tr>\n",
       "  </tbody>\n",
       "</table>\n",
       "<p>2780 rows × 4 columns</p>\n",
       "</div>"
      ],
      "text/plain": [
       "      Unnamed: 0                                               text  label_x  \\\n",
       "0              0  chúc các bạn luôn thành_công và thành_đạt trên...        1   \n",
       "1              1                                 tuyệt_vời quá đi .        1   \n",
       "2              2  theo các chuyên_gia của đại_học kinh_tế quốc d...        0   \n",
       "3              3  chúc con luôn đạt nhiều ngoạn_mục trên con đườ...        1   \n",
       "4              4                                    trường tâm_lý .        1   \n",
       "...          ...                                                ...      ...   \n",
       "2775        2780  giảng_viên chỉ cho đồ_án và giải_đáp các yêu_c...        2   \n",
       "2776        2781          cô nên dạy nội_dung khó hơn cho lớp sau .        2   \n",
       "2777        2782                                        em chưa ạ .        2   \n",
       "2778        2783                           thấy cao lắm hích hích .        0   \n",
       "2779        2784                  liên_hệ thực_tiễn tương_đối tốt .        1   \n",
       "\n",
       "      label_y  \n",
       "0           7  \n",
       "1           3  \n",
       "2           7  \n",
       "3           6  \n",
       "4           4  \n",
       "...       ...  \n",
       "2775        2  \n",
       "2776        2  \n",
       "2777        3  \n",
       "2778        3  \n",
       "2779        2  \n",
       "\n",
       "[2780 rows x 4 columns]"
      ]
     },
     "execution_count": 45,
     "metadata": {},
     "output_type": "execute_result"
    }
   ],
   "source": [
    "test"
   ]
  },
  {
   "cell_type": "code",
   "execution_count": 46,
   "metadata": {},
   "outputs": [],
   "source": [
    "test = set(\" \".join(x.split()) for x in test['text'].values)"
   ]
  },
  {
   "cell_type": "code",
   "execution_count": 47,
   "metadata": {},
   "outputs": [],
   "source": [
    "arr = []\n",
    "for t in df['text'].values:\n",
    "    text = \" \".join(t.split())\n",
    "    if text not in test:\n",
    "        arr.append(text)"
   ]
  },
  {
   "cell_type": "code",
   "execution_count": 48,
   "metadata": {},
   "outputs": [],
   "source": [
    "df2 = pd.DataFrame({'text':arr})"
   ]
  },
  {
   "cell_type": "code",
   "execution_count": 49,
   "metadata": {},
   "outputs": [
    {
     "data": {
      "text/html": [
       "<div>\n",
       "<style scoped>\n",
       "    .dataframe tbody tr th:only-of-type {\n",
       "        vertical-align: middle;\n",
       "    }\n",
       "\n",
       "    .dataframe tbody tr th {\n",
       "        vertical-align: top;\n",
       "    }\n",
       "\n",
       "    .dataframe thead th {\n",
       "        text-align: right;\n",
       "    }\n",
       "</style>\n",
       "<table border=\"1\" class=\"dataframe\">\n",
       "  <thead>\n",
       "    <tr style=\"text-align: right;\">\n",
       "      <th></th>\n",
       "      <th>text</th>\n",
       "    </tr>\n",
       "  </thead>\n",
       "  <tbody>\n",
       "    <tr>\n",
       "      <th>0</th>\n",
       "      <td>vòng kết đến .</td>\n",
       "    </tr>\n",
       "    <tr>\n",
       "      <th>1</th>\n",
       "      <td>khí lớp_học vui_vẻ thoải_mái .</td>\n",
       "    </tr>\n",
       "    <tr>\n",
       "      <th>2</th>\n",
       "      <td>hướng học kinh_tế vi_mô photo .</td>\n",
       "    </tr>\n",
       "    <tr>\n",
       "      <th>3</th>\n",
       "      <td>in sẵn banner luôn .</td>\n",
       "    </tr>\n",
       "    <tr>\n",
       "      <th>4</th>\n",
       "      <td>inbox mua het nhe ban .</td>\n",
       "    </tr>\n",
       "    <tr>\n",
       "      <th>...</th>\n",
       "      <td>...</td>\n",
       "    </tr>\n",
       "    <tr>\n",
       "      <th>30030</th>\n",
       "      <td>hào thành_viên cụm truyền_thông kiện hội sinh_...</td>\n",
       "    </tr>\n",
       "    <tr>\n",
       "      <th>30031</th>\n",
       "      <td>giảng_viên giảng ví_dụ minh_họa giúp sinh_viên...</td>\n",
       "    </tr>\n",
       "    <tr>\n",
       "      <th>30032</th>\n",
       "      <td>hai vai_trò thầy wzjwz môn wzjwz kỹ_thuật ngôn...</td>\n",
       "    </tr>\n",
       "    <tr>\n",
       "      <th>30033</th>\n",
       "      <td>chương_trình tân_sinh_viên làn_sóng đột_phá nă...</td>\n",
       "    </tr>\n",
       "    <tr>\n",
       "      <th>30034</th>\n",
       "      <td>ban múa câu lạc_bộ âm_nhạc mec thức thông_báo ...</td>\n",
       "    </tr>\n",
       "  </tbody>\n",
       "</table>\n",
       "<p>30035 rows × 1 columns</p>\n",
       "</div>"
      ],
      "text/plain": [
       "                                                    text\n",
       "0                                         vòng kết đến .\n",
       "1                         khí lớp_học vui_vẻ thoải_mái .\n",
       "2                        hướng học kinh_tế vi_mô photo .\n",
       "3                                   in sẵn banner luôn .\n",
       "4                                inbox mua het nhe ban .\n",
       "...                                                  ...\n",
       "30030  hào thành_viên cụm truyền_thông kiện hội sinh_...\n",
       "30031  giảng_viên giảng ví_dụ minh_họa giúp sinh_viên...\n",
       "30032  hai vai_trò thầy wzjwz môn wzjwz kỹ_thuật ngôn...\n",
       "30033  chương_trình tân_sinh_viên làn_sóng đột_phá nă...\n",
       "30034  ban múa câu lạc_bộ âm_nhạc mec thức thông_báo ...\n",
       "\n",
       "[30035 rows x 1 columns]"
      ]
     },
     "execution_count": 49,
     "metadata": {},
     "output_type": "execute_result"
    }
   ],
   "source": [
    "df2"
   ]
  },
  {
   "cell_type": "code",
   "execution_count": 50,
   "metadata": {},
   "outputs": [],
   "source": [
    "df2.to_csv('dataset/MLMdata.csv')"
   ]
  },
  {
   "cell_type": "code",
   "execution_count": 53,
   "metadata": {},
   "outputs": [
    {
     "data": {
      "text/plain": [
       "(30035, 1)"
      ]
     },
     "execution_count": 53,
     "metadata": {},
     "output_type": "execute_result"
    }
   ],
   "source": [
    "df2.shape\n"
   ]
  },
  {
   "cell_type": "code",
   "execution_count": null,
   "metadata": {},
   "outputs": [],
   "source": []
  }
 ],
 "metadata": {
  "kernelspec": {
   "display_name": "Python 3",
   "language": "python",
   "name": "python3"
  },
  "language_info": {
   "codemirror_mode": {
    "name": "ipython",
    "version": 3
   },
   "file_extension": ".py",
   "mimetype": "text/x-python",
   "name": "python",
   "nbconvert_exporter": "python",
   "pygments_lexer": "ipython3",
   "version": "3.11.6"
  }
 },
 "nbformat": 4,
 "nbformat_minor": 2
}
